{
 "cells": [
  {
   "cell_type": "markdown",
   "metadata": {},
   "source": [
    "# Import dependencies"
   ]
  },
  {
   "cell_type": "code",
   "execution_count": 2,
   "metadata": {},
   "outputs": [
    {
     "name": "stdout",
     "output_type": "stream",
     "text": [
      "You are missing the most cool package in Python! Try pip install pygame or set MUSIC=False\n"
     ]
    }
   ],
   "source": [
    "import os\n",
    "import sys\n",
    "import numpy as np\n",
    "import scipy as sp\n",
    "from scipy.stats import norm\n",
    "import matplotlib.pyplot as plt\n",
    "import matplotlib.mlab as mlab\n",
    "\n",
    "\n",
    "import emcee\n",
    "from emcee import PTSampler\n",
    "from PyAstronomy.pyasl import MarkleyKESolver\n",
    "from decimal import Decimal  # histograms\n",
    "import corner\n",
    "import time as chrono\n",
    "import multiprocessing\n",
    "import datetime as dt\n",
    "\n",
    "import emperors_library as emplib\n",
    "import emperors_mirror as empmir\n",
    "\n",
    "try:\n",
    "    from tqdm import tqdm\n",
    "except ImportError:\n",
    "    raise ImportError('You don t have the package tqdm installed. Try pip install tqdm.')\n",
    "try:\n",
    "    from termcolor import colored\n",
    "except:\n",
    "    print('You are missing the most cool package in Python! Try pip install termcolor')\n",
    "try:\n",
    "    from pygame import mixer\n",
    "except:\n",
    "    print('You are missing the most cool package in Python! Try pip install pygame or set MUSIC=False')\n"
   ]
  },
  {
   "cell_type": "markdown",
   "metadata": {},
   "source": [
    "# Model Functions"
   ]
  },
  {
   "cell_type": "code",
   "execution_count": null,
   "metadata": {},
   "outputs": [],
   "source": [
    "def RV_model(THETA, time, kplanets):\n",
    "    modelo = 0.0\n",
    "    if kplanets == 0:\n",
    "        return 0.0\n",
    "    for i in range(kplanets):\n",
    "        P, As, Ac, S, C = THETA[5*i:5*(i+1)]\n",
    "        A = As ** 2 + Ac ** 2\n",
    "        ecc = S ** 2 + C ** 2\n",
    "        w = sp.arccos(C / (ecc ** 0.5))  # longitude of periastron\n",
    "        phase = sp.arccos(Ac / (A ** 0.5))\n",
    "        ### test\n",
    "        if S < 0:\n",
    "            w = 2 * sp.pi - sp.arccos(C / (ecc ** 0.5))\n",
    "        if As < 0:\n",
    "            phase = 2 * sp.pi - sp.arccos(Ac / (A ** 0.5))\n",
    "\n",
    "        ###\n",
    "        per = sp.exp(P)\n",
    "        freq = 2. * sp.pi / per\n",
    "        M = freq * time + phase  # mean anomaly\n",
    "        E = sp.array([MarkleyKESolver().getE(m, ecc) for m in M])  # eccentric anomaly\n",
    "        f = (sp.arctan(((1. + ecc) ** 0.5 / (1. - ecc) ** 0.5) * sp.tan(E / 2.)) * 2.)  # true anomaly\n",
    "        modelo += A * (sp.cos(f + w) + ecc * sp.cos(w))\n",
    "    return  modelo\n",
    "\n",
    "\n",
    "def transit_lightCurve(lc_params, time, free_params, ld, *theta_j):\n",
    "    flux = 0.0\n",
    "    params = batman.TransitParams()\n",
    "    nfp = len(free_params)\n",
    "    f_params = (nfp + ld) * fsig\n",
    "    if theta_j:\n",
    "        params.per = theta_j[3*i]\n",
    "        params.w = theta_j[3*i + 1]\n",
    "        params.ecc = theta_j[3*i + 2]\n",
    "    else:\n",
    "        params.per = lc_params[(nfp+ld)*(i+1) - 2]\n",
    "        params.w = lc_params[(nfp+ld)*(i+1) - 1]\n",
    "        params.ecc = lc_params[(nfp+ld)*(i+1)]\n",
    "    #params.per = P                       #orbital period in days\n",
    "    params.t0 = lc_params[(nfp+ld)*i]                       #time of inferior conjunction\n",
    "    params.rp = lc_params[(nfp+ld*i) + 1]                   #planet radius (in units of stellar radii)\n",
    "    params.a = lc_params[(nfp+ld*i) + 2]                      #semi-major axis (in units of stellar radii)\n",
    "    params.inc = lc_params[(nfp+ld*i) + 3]                     #orbital inclination (in degrees)\n",
    "    #params.ecc = 0.                      #eccentricity\n",
    "\n",
    "    #params.w = 0.                        #longitude of periastron (in degrees)\n",
    "    u = []\n",
    "    for j in range(ld):\n",
    "        u.append(lc_params[nfp+j + (nfp+ld)*i])\n",
    "    params.u = u                #limb darkening coefficients [u1, u2]\n",
    "    params.limb_dark = \"quadratic\"       #limb darkening model\n",
    "    m = batman.TransitModel(params, time)    #initializes model\n",
    "    flux += m.light_curve(params)          #calculates light curve\n",
    "    #print flux, 'flux2\\n\\n'  # PMPMPM\n",
    "    return (flux)\n"
   ]
  },
  {
   "cell_type": "markdown",
   "metadata": {},
   "source": [
    "# Dummy functions"
   ]
  },
  {
   "cell_type": "code",
   "execution_count": 3,
   "metadata": {},
   "outputs": [],
   "source": [
    "def logp(theta, func_logp, args):\n",
    "    return func_logp(theta, args)\n",
    "\n",
    "\n",
    "def logl(theta, func_logl, args):\n",
    "    return func_logl(theta, args)"
   ]
  },
  {
   "cell_type": "code",
   "execution_count": null,
   "metadata": {},
   "outputs": [],
   "source": []
  },
  {
   "cell_type": "code",
   "execution_count": 3,
   "metadata": {},
   "outputs": [],
   "source": [
    "def uniform(x, lims, *args):\n",
    "    if lims[0] <= x <= lims[1]:\n",
    "        return 1.0\n",
    "    \n",
    "def flat(x, lims, *args):\n",
    "    return 0.0"
   ]
  },
  {
   "cell_type": "code",
   "execution_count": 4,
   "metadata": {},
   "outputs": [],
   "source": [
    "d = {'uniform':uniform,\n",
    "     'flat':flat}"
   ]
  },
  {
   "cell_type": "code",
   "execution_count": 5,
   "metadata": {},
   "outputs": [
    {
     "data": {
      "text/plain": [
       "<function __main__.uniform(x, lims, *args)>"
      ]
     },
     "execution_count": 5,
     "metadata": {},
     "output_type": "execute_result"
    }
   ],
   "source": [
    "import scipy as sp\n",
    "d['uniform']"
   ]
  },
  {
   "cell_type": "code",
   "execution_count": 6,
   "metadata": {},
   "outputs": [],
   "source": [
    "class spec:\n",
    "    def __init__(self, name, units, prior, lims, val, *args):\n",
    "        self.name = name\n",
    "        self.units = units\n",
    "        self.prior = d[str(prior)]\n",
    "        self.lims = lims\n",
    "        self.val = -sp.inf\n",
    "    def p(self, x, *args):\n",
    "        return self.prior(x, args)\n",
    "    def identify(self):\n",
    "        return self.name+'    '+self.units\n",
    "    def change(self, thing, whatto):\n",
    "        pass\n",
    "        \n",
    "        "
   ]
  },
  {
   "cell_type": "code",
   "execution_count": 7,
   "metadata": {},
   "outputs": [],
   "source": [
    "theta1 = spec('Acceleration', '[m/s]', 'uniform', [0, 1], 1)"
   ]
  },
  {
   "cell_type": "code",
   "execution_count": 8,
   "metadata": {},
   "outputs": [
    {
     "data": {
      "text/plain": [
       "'Acceleration'"
      ]
     },
     "execution_count": 8,
     "metadata": {},
     "output_type": "execute_result"
    }
   ],
   "source": [
    "theta1.name"
   ]
  },
  {
   "cell_type": "code",
   "execution_count": 13,
   "metadata": {},
   "outputs": [],
   "source": [
    "t = sp.array([])\n",
    "t = sp.append(t, spec('Acceleration', '[m/s]', 'uniform', [0, 1], 1))\n",
    "t = sp.append(t, spec('Acceleration1', '[m/s]', 'uniform', [0, 1], 1))\n",
    "t = sp.append(t, spec('Acceleration2', '[m/s]', 'uniform', [0, 1], 1))"
   ]
  },
  {
   "cell_type": "code",
   "execution_count": 14,
   "metadata": {},
   "outputs": [
    {
     "data": {
      "text/plain": [
       "array([<__main__.spec object at 0x7f0674229438>,\n",
       "       <__main__.spec object at 0x7f0674229470>,\n",
       "       <__main__.spec object at 0x7f0674229550>], dtype=object)"
      ]
     },
     "execution_count": 14,
     "metadata": {},
     "output_type": "execute_result"
    }
   ],
   "source": [
    "t"
   ]
  },
  {
   "cell_type": "code",
   "execution_count": 16,
   "metadata": {},
   "outputs": [
    {
     "data": {
      "text/plain": [
       "'Acceleration1'"
      ]
     },
     "execution_count": 16,
     "metadata": {},
     "output_type": "execute_result"
    }
   ],
   "source": [
    "t[1].name"
   ]
  },
  {
   "cell_type": "code",
   "execution_count": 18,
   "metadata": {},
   "outputs": [],
   "source": [
    "t[1].xd = 1"
   ]
  },
  {
   "cell_type": "code",
   "execution_count": 19,
   "metadata": {},
   "outputs": [
    {
     "data": {
      "text/plain": [
       "1"
      ]
     },
     "execution_count": 19,
     "metadata": {},
     "output_type": "execute_result"
    }
   ],
   "source": [
    "t[1].xd"
   ]
  },
  {
   "cell_type": "code",
   "execution_count": 28,
   "metadata": {},
   "outputs": [],
   "source": [
    "def change_name(object_id, action, whato):\n",
    "    for theta in t:\n",
    "        if theta.name == object_id:\n",
    "            setattr(theta, action, whato)\n",
    "    pass"
   ]
  },
  {
   "cell_type": "code",
   "execution_count": 30,
   "metadata": {},
   "outputs": [],
   "source": [
    "change_name('Acceleration1', 'name', 'works!!')"
   ]
  },
  {
   "cell_type": "code",
   "execution_count": 35,
   "metadata": {},
   "outputs": [
    {
     "data": {
      "text/plain": [
       "'works!!'"
      ]
     },
     "execution_count": 35,
     "metadata": {},
     "output_type": "execute_result"
    }
   ],
   "source": [
    "t[1].name"
   ]
  },
  {
   "cell_type": "code",
   "execution_count": null,
   "metadata": {},
   "outputs": [],
   "source": [
    "class obje"
   ]
  }
 ],
 "metadata": {
  "kernelspec": {
   "display_name": "Python 3",
   "language": "python",
   "name": "python3"
  },
  "language_info": {
   "codemirror_mode": {
    "name": "ipython",
    "version": 3
   },
   "file_extension": ".py",
   "mimetype": "text/x-python",
   "name": "python",
   "nbconvert_exporter": "python",
   "pygments_lexer": "ipython3",
   "version": "3.7.1"
  }
 },
 "nbformat": 4,
 "nbformat_minor": 2
}
