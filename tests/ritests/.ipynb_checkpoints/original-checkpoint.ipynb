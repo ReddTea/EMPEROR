{
 "cells": [
  {
   "cell_type": "markdown",
   "metadata": {},
   "source": [
    "---\n",
    "# Transit Model with GP from GROND in r\n",
    "---"
   ]
  },
  {
   "cell_type": "code",
   "execution_count": 1,
   "metadata": {},
   "outputs": [],
   "source": [
    "#IPython notebook\n",
    "#Author: Riacardo Ramirez Reyes\n",
    "%matplotlib inline"
   ]
  },
  {
   "cell_type": "code",
   "execution_count": 2,
   "metadata": {},
   "outputs": [
    {
     "name": "stderr",
     "output_type": "stream",
     "text": [
      "/home/reddtea/.local/lib/python3.7/site-packages/pyfits/__init__.py:22: PyFITSDeprecationWarning: PyFITS is deprecated, please use astropy.io.fits\n",
      "  PyFITSDeprecationWarning)  # noqa\n"
     ]
    }
   ],
   "source": [
    "import pyfits as py\n",
    "import numpy as np\n",
    "import matplotlib.pyplot as plt\n",
    "from numba import jit"
   ]
  },
  {
   "cell_type": "code",
   "execution_count": 3,
   "metadata": {},
   "outputs": [],
   "source": [
    "import george\n",
    "from george import kernels\n",
    "import emcee\n",
    "import corner"
   ]
  },
  {
   "cell_type": "markdown",
   "metadata": {},
   "source": [
    "# Function"
   ]
  },
  {
   "cell_type": "code",
   "execution_count": 4,
   "metadata": {},
   "outputs": [],
   "source": [
    "import batman\n",
    "def transit_lightCurve(time, t0, radius, dist, P, inc):\n",
    "    params = batman.TransitParams()\n",
    "    params.t0 = t0                       #time of inferior conjunction\n",
    "    params.per = P                       #orbital period in days\n",
    "    params.rp = radius                   #planet radius (in units of stellar radii)\n",
    "    params.a = dist                      #semi-major axis (in units of stellar radii)\n",
    "    params.inc = inc                     #orbital inclination (in degrees)\n",
    "    params.ecc = 0.                      #eccentricity\n",
    "    params.w = 0.                        #longitude of periastron (in degrees)\n",
    "    params.u = [0.1, 0.3]                #limb darkening coefficients [u1, u2]\n",
    "    params.limb_dark = \"quadratic\"       #limb darkening model\n",
    "    \n",
    "    m = batman.TransitModel(params, time)    #initializes model\n",
    "    flux = m.light_curve(params)          #calculates light curve\n",
    "    \n",
    "    return (flux)\n",
    "\n",
    "Neptune_Density = 1638 #kg/m3.\n",
    "Jupiter_Density = 1326 #kg/m3.\n",
    "Earth_Density = 5520 #kg/m3.\n",
    "Earth_radius = 6371000 #m\n",
    "Jupiter_Radius = 69911000 #m\n",
    "Jupiter_Mass = 1.898e+27 #kg\n",
    "Sun_radius = 695700000 #m\n",
    "au = 149597870700 #m\n",
    "\n",
    "def RadiusPlanet(density, Mass, StellarRadius): # in jupiter mass and solar radius\n",
    "    SR = StellarRadius*Sun_radius\n",
    "    M = Mass*Jupiter_Mass\n",
    "    r = (3*(M/density) /(4*np.pi))**(1/3)\n",
    "    return r/SR  # radius in star ratio\n",
    "\n",
    "def distancePlanet(distance, StellarRadius): # in au, and solar radius\n",
    "    d = distance*au\n",
    "    SR = StellarRadius*Sun_radius\n",
    "    return d/SR  # distance in star ratio"
   ]
  },
  {
   "cell_type": "code",
   "execution_count": 5,
   "metadata": {},
   "outputs": [],
   "source": [
    "def gaussian(x, sigma):\n",
    "    coef = -(x*x)/(2*sigma*sigma)\n",
    "    return 1/np.sqrt(2*np.pi*sigma*sigma) * np.exp(coef)"
   ]
  },
  {
   "cell_type": "markdown",
   "metadata": {},
   "source": [
    "# Read Data"
   ]
  },
  {
   "cell_type": "code",
   "execution_count": 6,
   "metadata": {},
   "outputs": [],
   "source": [
    "path =  \"/Volumes/SEAGATE1/Reduction/GROND/\""
   ]
  },
  {
   "cell_type": "code",
   "execution_count": 7,
   "metadata": {},
   "outputs": [
    {
     "ename": "FileNotFoundError",
     "evalue": "[Errno 2] No such file or directory: '/Volumes/SEAGATE1/Reduction/GROND/transit_ground_r.npy'",
     "output_type": "error",
     "traceback": [
      "\u001b[0;31m---------------------------------------------------------------------------\u001b[0m",
      "\u001b[0;31mFileNotFoundError\u001b[0m                         Traceback (most recent call last)",
      "\u001b[0;32m<ipython-input-7-6bcb06903cb1>\u001b[0m in \u001b[0;36m<module>\u001b[0;34m\u001b[0m\n\u001b[0;32m----> 1\u001b[0;31m \u001b[0mx\u001b[0m\u001b[0;34m,\u001b[0m \u001b[0my\u001b[0m\u001b[0;34m,\u001b[0m \u001b[0mx_error\u001b[0m\u001b[0;34m,\u001b[0m \u001b[0my_error\u001b[0m \u001b[0;34m=\u001b[0m \u001b[0mnp\u001b[0m\u001b[0;34m.\u001b[0m\u001b[0mload\u001b[0m\u001b[0;34m(\u001b[0m\u001b[0mpath\u001b[0m \u001b[0;34m+\u001b[0m \u001b[0;34m'transit_ground_r.npy'\u001b[0m\u001b[0;34m)\u001b[0m\u001b[0;34m\u001b[0m\u001b[0;34m\u001b[0m\u001b[0m\n\u001b[0m",
      "\u001b[0;32m~/anaconda3/lib/python3.7/site-packages/numpy/lib/npyio.py\u001b[0m in \u001b[0;36mload\u001b[0;34m(file, mmap_mode, allow_pickle, fix_imports, encoding)\u001b[0m\n\u001b[1;32m    382\u001b[0m     \u001b[0mown_fid\u001b[0m \u001b[0;34m=\u001b[0m \u001b[0;32mFalse\u001b[0m\u001b[0;34m\u001b[0m\u001b[0;34m\u001b[0m\u001b[0m\n\u001b[1;32m    383\u001b[0m     \u001b[0;32mif\u001b[0m \u001b[0misinstance\u001b[0m\u001b[0;34m(\u001b[0m\u001b[0mfile\u001b[0m\u001b[0;34m,\u001b[0m \u001b[0mbasestring\u001b[0m\u001b[0;34m)\u001b[0m\u001b[0;34m:\u001b[0m\u001b[0;34m\u001b[0m\u001b[0;34m\u001b[0m\u001b[0m\n\u001b[0;32m--> 384\u001b[0;31m         \u001b[0mfid\u001b[0m \u001b[0;34m=\u001b[0m \u001b[0mopen\u001b[0m\u001b[0;34m(\u001b[0m\u001b[0mfile\u001b[0m\u001b[0;34m,\u001b[0m \u001b[0;34m\"rb\"\u001b[0m\u001b[0;34m)\u001b[0m\u001b[0;34m\u001b[0m\u001b[0;34m\u001b[0m\u001b[0m\n\u001b[0m\u001b[1;32m    385\u001b[0m         \u001b[0mown_fid\u001b[0m \u001b[0;34m=\u001b[0m \u001b[0;32mTrue\u001b[0m\u001b[0;34m\u001b[0m\u001b[0;34m\u001b[0m\u001b[0m\n\u001b[1;32m    386\u001b[0m     \u001b[0;32melif\u001b[0m \u001b[0mis_pathlib_path\u001b[0m\u001b[0;34m(\u001b[0m\u001b[0mfile\u001b[0m\u001b[0;34m)\u001b[0m\u001b[0;34m:\u001b[0m\u001b[0;34m\u001b[0m\u001b[0;34m\u001b[0m\u001b[0m\n",
      "\u001b[0;31mFileNotFoundError\u001b[0m: [Errno 2] No such file or directory: '/Volumes/SEAGATE1/Reduction/GROND/transit_ground_r.npy'"
     ]
    }
   ],
   "source": [
    "x, y, x_error, y_error = np.load('transit_ground_r.npy')"
   ]
  },
  {
   "cell_type": "code",
   "execution_count": null,
   "metadata": {},
   "outputs": [],
   "source": [
    "x.shape"
   ]
  },
  {
   "cell_type": "markdown",
   "metadata": {},
   "source": [
    "# Plot Data"
   ]
  },
  {
   "cell_type": "code",
   "execution_count": null,
   "metadata": {},
   "outputs": [],
   "source": [
    "plt.subplots(figsize=(16,8))\n",
    "plt.grid(True)\n",
    "plt.xlim( (min(x)-0.01) , (max(x+0.01)))\n",
    "plt.ylim(0.99, 1.015)\n",
    "\n",
    "plt.plot((x[0], x[-1]), (1.0 - 0.1/100, 1.0 - 0.1/100), 'k--', linewidth=2, alpha = 0.5)\n",
    "plt.plot((x[0], x[-1]), (1.0 + 0.1/100 , 1. + 0.1/100), 'k--', linewidth=2, alpha = 0.5)\n",
    "plt.plot((x[0], x[-1]), (1., 1.), 'k', linewidth=4)\n",
    "\n",
    "plt.errorbar(x, y, xerr=x_error, yerr=y_error, fmt='b.', alpha=1/1.)\n",
    "\n",
    "                             #time, t0,     radius,        dist,            P,        inc\n",
    "y_transit = transit_lightCurve(x, 2456915.6997, 0.0704, 101.1576001138329, 24.73712, 89.912)\n",
    "plt.plot(x, y_transit, 'r',  linewidth=2)\n",
    "\n",
    "plt.ylabel('Normalized Flux', fontsize=15)\n",
    "plt.xlabel('JD', fontsize=15)\n",
    "plt.title('GROND in g')\n",
    "ax = plt.gca()\n",
    "ax.get_xaxis().get_major_formatter().set_useOffset(False)"
   ]
  },
  {
   "cell_type": "markdown",
   "metadata": {},
   "source": [
    "# Gaussian Process"
   ]
  },
  {
   "cell_type": "code",
   "execution_count": null,
   "metadata": {},
   "outputs": [],
   "source": [
    "def give_initial(nwalkers):\n",
    "    ndim = 4\n",
    "    T0 = 2456915.70\n",
    "    r = 0.0704\n",
    "    k_a = 1.0e-3 # amplitud kernel\n",
    "    k_r = 3 # radial kernel\n",
    "\n",
    "    param = []\n",
    "    for i in range(nwalkers):  \n",
    "        t1 = T0  + 1e-3*np.random.randn() # Normal distribution 1-1 4-4\n",
    "        t2 = r   + 1e-4*np.random.randn()\n",
    "        t6 = k_a + 1*1e-4*np.random.randn()\n",
    "        t7 = k_r + 1*1e-0*np.random.randn()\n",
    "        param.append((t1,t2,np.abs(t6),np.abs(t7)))\n",
    "    return param, ndim"
   ]
  },
  {
   "cell_type": "code",
   "execution_count": null,
   "metadata": {},
   "outputs": [],
   "source": [
    "#give random variables\n",
    "def plus_random_initial(param, nwalkers):\n",
    "    T0, r, k_a, k_r = param\n",
    "    t = []\n",
    "    for i in range(nwalkers):  \n",
    "        t1 = T0  + 1e-4*np.random.randn() # Normal distribution 1-1 4-4\n",
    "        t2 = r   + 1e-5*np.random.randn()\n",
    "        t6 = k_a + 1*1e-4*np.random.randn()\n",
    "        t7 = k_r + 1*1e-0*np.random.randn()\n",
    "        t.append((t1,t2, np.abs(t6),np.abs(t7)))\n",
    "    return t"
   ]
  },
  {
   "cell_type": "code",
   "execution_count": null,
   "metadata": {},
   "outputs": [],
   "source": [
    "data = (x, y, y_error)"
   ]
  },
  {
   "cell_type": "code",
   "execution_count": null,
   "metadata": {},
   "outputs": [],
   "source": [
    "nwalkers = 50\n",
    "p0, ndim = give_initial(nwalkers)"
   ]
  },
  {
   "cell_type": "code",
   "execution_count": null,
   "metadata": {},
   "outputs": [],
   "source": [
    "def lnprob_gp(param, x, y, yerr):\n",
    "    lp = lnprior(param)\n",
    "    if not np.isfinite(lp):\n",
    "        return -np.inf\n",
    "    return lp + lnlike_gp(param, x, y, yerr)\n",
    "\n",
    "def lnprior(param):\n",
    "    T0, r, k_a, k_r = param\n",
    "    if not (2456915.67 < T0  < 2456915.73 and 0.05 < r  < 0.09 and\n",
    "        0 < k_a < 5.0e-2 and 0 < k_r < 6.):\n",
    "        return -np.inf\n",
    "    \n",
    "    mu = 0.07 # mean of the Normal prior\n",
    "    sigma = 0.004 # standard deviation of the Normal prior\n",
    "    prob_r = np.log(gaussian(r - mu, sigma))\n",
    "    \n",
    "    mu = 2456915.70\n",
    "    sigma =  0.005\n",
    "    prob_t0 = np.log(gaussian(T0 - mu, sigma))\n",
    "    prob = prob_t0\n",
    "    return prob\n",
    "    \n",
    "    #return -np.inf\n",
    "\n",
    "def lnlike_gp(param, x, y, yerr):\n",
    "    radius = 10.**param[-1]\n",
    "    gp = george.GP(param[-2] * kernels.Matern32Kernel(radius))\n",
    "    gp.compute(x, yerr)\n",
    "    return gp.lnlikelihood(y - Model(param[:-2], x))\n",
    "\n",
    "def Model(param, x):\n",
    "    T0, r = param\n",
    "    transit = transit_lightCurve(x, T0, r, 101.1576001138329, 24.73712, 89.912)\n",
    "    t = x - x[0]\n",
    "    return transit\n",
    "\n",
    "\n",
    "#def Model2(param, x):\n",
    "#    T0, r, p = param\n",
    "#    transit = transit_lightCurve(x, T0, r, 101.1576001138329, p, 89.912)\n",
    "#    t = x - x[0]\n",
    "#    return transit"
   ]
  },
  {
   "cell_type": "code",
   "execution_count": null,
   "metadata": {},
   "outputs": [],
   "source": [
    "sampler = emcee.EnsembleSampler(nwalkers, ndim, lnprob_gp, args=(data))"
   ]
  },
  {
   "cell_type": "code",
   "execution_count": null,
   "metadata": {},
   "outputs": [],
   "source": [
    "plt.figure('close')\n",
    "fig, axes = plt.subplots(4, 1, sharex=True, figsize=(12, 12))\n",
    "import matplotlib.gridspec as gridspec\n",
    "gs1 = gridspec.GridSpec(4, 1)\n",
    "gs1.update(wspace=0.025)\n",
    "\n",
    "axes[0].plot(sampler.chain[:, :, 0].T, color=\"k\", alpha=0.2)\n",
    "#axes[0].yaxis.set_major_locator(MaxNLocator(5))\n",
    "axes[0].set_ylabel(\"$T0$\")\n",
    "\n",
    "axes[1].plot(sampler.chain[:, :, 1].T, color=\"k\", alpha=0.2)\n",
    "#axes[1].yaxis.set_major_locator(MaxNLocator(5))\n",
    "axes[1].set_ylabel(\"$r$\")\n",
    "\n",
    "#axes[2].plot(sampler.chain[:, :, 2].T, color=\"k\", alpha=0.2)\n",
    "#axes[2].yaxis.set_major_locator(MaxNLocator(5))\n",
    "#axes[2].set_ylabel(\"$a$\")\n",
    "\n",
    "#axes[3].plot(sampler.chain[:, :, 3].T, color=\"k\", alpha=0.2)\n",
    "#axes[3].yaxis.set_major_locator(MaxNLocator(5))\n",
    "#axes[3].set_ylabel(\"$b$\")\n",
    "\n",
    "#axes[4].plot(sampler.chain[:, :, 4].T, color=\"k\", alpha=0.2)\n",
    "#axes[4].yaxis.set_major_locator(MaxNLocator(5))\n",
    "#axes[4].set_ylabel(\"$c$\")\n",
    "\n",
    "axes[2].plot(sampler.chain[:, :, 2].T, color=\"k\", alpha=0.2)\n",
    "#axes[5].yaxis.set_major_locator(MaxNLocator(5))\n",
    "axes[2].set_ylabel(\"$k a$\")\n",
    "\n",
    "axes[3].plot(sampler.chain[:, :, 3].T, color=\"k\", alpha=0.2)\n",
    "#axes[6].yaxis.set_major_locator(MaxNLocator(5))\n",
    "axes[3].set_ylabel(\"$k r$\")\n",
    "\n",
    "fig.tight_layout(h_pad=0.0)"
   ]
  },
  {
   "cell_type": "code",
   "execution_count": null,
   "metadata": {},
   "outputs": [],
   "source": [
    "print(\"Running burn-in\")\n",
    "%time p0, lnp, _ = sampler.run_mcmc(p0, 200)"
   ]
  },
  {
   "cell_type": "code",
   "execution_count": null,
   "metadata": {},
   "outputs": [],
   "source": [
    "sampler.lnprobability"
   ]
  },
  {
   "cell_type": "code",
   "execution_count": null,
   "metadata": {},
   "outputs": [],
   "source": [
    "sampler.reset()\n",
    "print(\"Running second burn-in\")\n",
    "p = p0[np.argmax(lnp)]\n",
    "p0 = plus_random_initial(p, nwalkers)\n",
    "%time p0, _, _ = sampler.run_mcmc(p0, 1000)"
   ]
  },
  {
   "cell_type": "code",
   "execution_count": null,
   "metadata": {},
   "outputs": [],
   "source": [
    "plt.figure('close')\n",
    "fig, axes = plt.subplots(4, 1, sharex=True, figsize=(12, 12))\n",
    "import matplotlib.gridspec as gridspec\n",
    "gs1 = gridspec.GridSpec(4, 1)\n",
    "gs1.update(wspace=0.025)\n",
    "\n",
    "axes[0].plot(sampler.chain[:, :, 0].T, color=\"k\", alpha=0.2)\n",
    "#axes[0].yaxis.set_major_locator(MaxNLocator(5))\n",
    "axes[0].set_ylabel(\"$T0$\")\n",
    "\n",
    "axes[1].plot(sampler.chain[:, :, 1].T, color=\"k\", alpha=0.2)\n",
    "#axes[1].yaxis.set_major_locator(MaxNLocator(5))\n",
    "axes[1].set_ylabel(\"$r$\")\n",
    "\n",
    "#axes[2].plot(sampler.chain[:, :, 2].T, color=\"k\", alpha=0.2)\n",
    "#axes[2].yaxis.set_major_locator(MaxNLocator(5))\n",
    "#axes[2].set_ylabel(\"$a$\")\n",
    "\n",
    "#axes[3].plot(sampler.chain[:, :, 3].T, color=\"k\", alpha=0.2)\n",
    "#axes[3].yaxis.set_major_locator(MaxNLocator(5))\n",
    "#axes[3].set_ylabel(\"$b$\")\n",
    "\n",
    "#axes[4].plot(sampler.chain[:, :, 4].T, color=\"k\", alpha=0.2)\n",
    "#axes[4].yaxis.set_major_locator(MaxNLocator(5))\n",
    "#axes[4].set_ylabel(\"$c$\")\n",
    "\n",
    "axes[2].plot(sampler.chain[:, :, 2].T, color=\"k\", alpha=0.2)\n",
    "#axes[5].yaxis.set_major_locator(MaxNLocator(5))\n",
    "axes[2].set_ylabel(\"$k a$\")\n",
    "\n",
    "axes[3].plot(sampler.chain[:, :, 3].T, color=\"k\", alpha=0.2)\n",
    "#axes[6].yaxis.set_major_locator(MaxNLocator(5))\n",
    "axes[3].set_ylabel(\"$k r$\")\n",
    "\n",
    "fig.tight_layout(h_pad=0.0)"
   ]
  },
  {
   "cell_type": "code",
   "execution_count": null,
   "metadata": {},
   "outputs": [],
   "source": [
    "samples = sampler.chain[:, -1000:, :].reshape((-1, ndim))"
   ]
  },
  {
   "cell_type": "code",
   "execution_count": null,
   "metadata": {},
   "outputs": [],
   "source": [
    "#fig = corner.corner(samples ,labels=[\"$T0$\", \"$r$\", \"$a$\", \"$b$\", \"$c$\", \"$k_a$\", \"$k_r$\"])\n",
    "fig = corner.corner(samples ,labels=[\"$T0$\", \"$r$\", \"$k_a$\", \"$k_r$\"])"
   ]
  },
  {
   "cell_type": "code",
   "execution_count": null,
   "metadata": {},
   "outputs": [],
   "source": [
    "T0_f, r_f, ka_f, kr_f = map(lambda v: (v[1], v[2]-v[1], v[1]-v[0]),\n",
    "                             zip(*np.percentile(samples, [16, 50, 84],\n",
    "                                                axis=0)))\n",
    "print('T0 = ' + str(T0_f))\n",
    "print('r = ' + str(r_f))\n",
    "print('k a = ' + str(ka_f))\n",
    "print('k r = ' + str(kr_f))"
   ]
  },
  {
   "cell_type": "code",
   "execution_count": null,
   "metadata": {},
   "outputs": [],
   "source": [
    "font = {'family': 'serif',\n",
    "        'color':  'black',\n",
    "        'weight': 'normal',\n",
    "        'size': 20,\n",
    "        }"
   ]
  },
  {
   "cell_type": "code",
   "execution_count": null,
   "metadata": {},
   "outputs": [],
   "source": [
    "plt.subplots(figsize=(16,8))\n",
    "plt.grid(True)\n",
    "plt.xlim( (min(x)-0.01) , (max(x+0.01)))\n",
    "plt.ylim(0.99, 1.015)\n",
    "\n",
    "#std = np.std(y[-5:])\n",
    "\n",
    "#plt.plot((x[0], x[-1]), (1.0 - std, 1.0 - std), 'k--', linewidth=2, alpha = 0.5)\n",
    "#plt.plot((x[0], x[-1]), (1.0 + std , 1. + std), 'k--', linewidth=2, alpha = 0.5)\n",
    "plt.plot((x[0], x[-1]), (1., 1.), 'k', linewidth=4)\n",
    "\n",
    "plt.errorbar(x, y, xerr=x_error, yerr=y_error, fmt='b.', alpha=1/1.)\n",
    "\n",
    "y_transit = transit_lightCurve(x, T0_f[0], r_f[0], 101.1576001138329, 24.73712, 89.912)\n",
    "plt.plot(x, y_transit, 'r',  linewidth=2)\n",
    "\n",
    "#temp = x-x[0]\n",
    "#y_model = y_transit + a_f[0] + b_f[0]*temp + c_f[0]*temp*temp\n",
    "#plt.plot(x, y_model, 'g',  linewidth=2, alpha = 0.5)\n",
    "\n",
    "plt.ylabel('Normalized Flux', fontsize=15)\n",
    "plt.xlabel('JD', fontsize=15)\n",
    "plt.title('GROND in i band', fontsize=40)\n",
    "ax = plt.gca()\n",
    "ax.get_xaxis().get_major_formatter().set_useOffset(False)\n",
    "plt.subplots_adjust(left=0.15)\n",
    "\n",
    "#plt.text(x[0]+0.2, 1.005, r'STD = '+str(np.around(std, decimals=4)), fontdict=font)\n",
    "\n",
    "r_t = str(np.around(r_f[0], decimals=4))\n",
    "r_tp = str(np.around(r_f[1], decimals=4))\n",
    "r_tm = str(np.around(r_f[2], decimals=4))\n",
    "plt.text(x[0]+0.06, 1.007, 'r = '+ r_t , fontdict=font)\n",
    "plt.text(x[0]+0.10, 1.0075, '+ '+ r_tp, fontdict=font)\n",
    "plt.text(x[0]+0.102, 1.0065, '-  '+ r_tm, fontdict=font)\n",
    "\n",
    "x2 = np.linspace(min(x), max(x), 1000)\n",
    "if True:\n",
    "    for s in samples[np.random.randint(len(samples), size=24)]:\n",
    "        radius = 10.**s[-1]\n",
    "        gp = george.GP(s[-2]* kernels.Matern32Kernel(radius))\n",
    "        #gp = george.GP(0.2* kernels.Matern32Kernel(radius))\n",
    "        gp.compute(x, y_error)\n",
    "        m = gp.sample_conditional(y - Model(s[:-2], x), x2) + Model(s[:-2], x2)\n",
    "        plt.plot(x2, m, '-', color=\"#4682b4\", alpha=0.2)\n"
   ]
  },
  {
   "cell_type": "code",
   "execution_count": null,
   "metadata": {},
   "outputs": [],
   "source": [
    "print ( r'r = '+r_t+' + '+r_tp +' - '+r_tm)"
   ]
  },
  {
   "cell_type": "code",
   "execution_count": null,
   "metadata": {},
   "outputs": [],
   "source": [
    "plt.subplots(figsize=(16,8))\n",
    "plt.grid(True)\n",
    "plt.xlim( (min(x)-0.01) , (max(x+0.01)))\n",
    "plt.ylabel('Residual', fontsize=15)\n",
    "plt.xlabel('JD', fontsize=15)\n",
    "plt.title('Residual SOFI', fontsize=20)\n",
    "\n",
    "# time\n",
    "radius = 10.**kr_f[0]\n",
    "kernel= ka_f[0] * kernels.Matern32Kernel(radius)\n",
    "\n",
    "gp = george.GP(kernel)\n",
    "gp.compute(x, y_error)\n",
    "\n",
    "nsamples = y - Model((T0_f[0], r_f[0]), x)\n",
    "gp_model = gp.sample_conditional(nsamples, x2)\n",
    "m = gp_model + Model((T0_f[0], r_f[0]), x2)\n",
    "\n",
    "m_f = np.interp(x, x2, m)\n",
    "\n",
    "\n",
    "plt.errorbar(x, (y - m_f)*1000000, xerr=x_error, yerr=y_error*1000000, fmt='b.', alpha=1/1.)"
   ]
  },
  {
   "cell_type": "code",
   "execution_count": null,
   "metadata": {},
   "outputs": [],
   "source": [
    "plt.subplots(figsize=(16,8))\n",
    "plt.grid(True)\n",
    "plt.xlim( (min(x)-0.01) , (max(x+0.01)))\n",
    "plt.ylabel('Process light curve', fontsize=15)\n",
    "plt.xlabel('JD', fontsize=15)\n",
    "plt.title('Transit SOFI Ks', fontsize=20)\n",
    "plt.ylim(0.99, 1.01)\n",
    "\n",
    "r_t = str(np.around(r_f[0], decimals=5))\n",
    "r_tp = str(np.around(r_f[1], decimals=5))\n",
    "r_tm = str(np.around(r_f[2], decimals=5))\n",
    "plt.plot((x[0], x[-1]), (1., 1.), 'k--', linewidth=1)\n",
    "plt.text(x[0]+0.03, 1.007, r'r = '+r_t+' + '+r_tp +' - '+r_tm, fontdict=font)\n",
    "\n",
    "\n",
    "m_f = np.interp(x, x2, m)\n",
    "y_transit_f = transit_lightCurve(x2, T0_f[0], r_f[0], 101.1576001138329, 24.73712, 89.912)\n",
    "\n",
    "plt.errorbar(x, (y - m_f + (y_transit)), xerr=x_error, yerr=y_error, fmt='b.', alpha=1/1.)\n",
    "plt.plot(x2, y_transit_f, 'g',  linewidth=2)\n",
    "\n",
    "y_transit_f = transit_lightCurve(x2, T0_f[0], 0.0704, 101.1576001138329, 24.73712, 89.912)\n",
    "plt.plot(x2, y_transit_f, 'r',  linewidth=2)"
   ]
  },
  {
   "cell_type": "code",
   "execution_count": null,
   "metadata": {},
   "outputs": [],
   "source": [
    "plt.subplots(figsize=(16,8))\n",
    "plt.grid(False)\n",
    "plt.xlim( (min(x)-0.01) , (max(x+0.01)))\n",
    "plt.ylabel('Normalized Flux', fontsize=20)\n",
    "plt.yticks(fontsize=14)\n",
    "plt.xlabel('Time (BJD - 2458053)', fontsize=20)\n",
    "plt.xticks(fontsize=14)\n",
    "plt.title('Transit in Band Ks', fontsize=20)\n",
    "plt.ylim(0.985, 1.010)\n",
    "plt.xlim(x[0]-2458053, x[-1]-2458053)\n",
    "\n",
    "r_t = str(np.around(r_f[0], decimals=5))\n",
    "r_tp = str(np.around(r_f[1], decimals=5))\n",
    "r_tm = str(np.around(r_f[2], decimals=5))\n",
    "plt.plot((x[0]-2458053, x[-1]-2458053), (1., 1.), 'k--', linewidth=1)\n",
    "\n",
    "m_f = np.interp(x, x2, m)\n",
    "y_transit_f = transit_lightCurve(x2, T0_f[0], r_f[0], 101.1576001138329, 24.73712, 89.912)\n",
    "\n",
    "\n",
    "plt.errorbar(x -2458053, (y - m_f + (y_transit)), yerr=y_error, fmt='k,', label='Ks data',\n",
    "             marker='o', mfc='blue', mec='k', ms=8, mew=1, elinewidth= 2, capsize=4)\n",
    "\n",
    "plt.plot(x2 -2458053, y_transit_f, 'k',  linewidth=5, label='Best Fit')\n",
    "\n",
    "\n",
    "ax = plt.gca()\n",
    "ax.get_xaxis().get_major_formatter().set_useOffset(False)\n",
    "plt.subplots_adjust(left=0.15)\n",
    "plt.legend(loc=2, fontsize=20)"
   ]
  },
  {
   "cell_type": "code",
   "execution_count": null,
   "metadata": {},
   "outputs": [],
   "source": [
    "plt.subplots(figsize=(16,8))\n",
    "plt.grid(False)\n",
    "plt.xlim( (min(x)-0.01) , (max(x+0.01)))\n",
    "plt.ylabel('Normalized Flux', fontsize=20)\n",
    "plt.yticks(fontsize=14)\n",
    "plt.xlabel('Time (BJD - 2458053)', fontsize=20)\n",
    "plt.xticks(fontsize=14)\n",
    "#plt.title('Transit in Band Ks', fontsize=20)\n",
    "plt.ylim(0.985, 1.010)\n",
    "plt.xlim(x[0]-58053, 58053.17-58053)\n",
    "\n",
    "r_t = str(np.around(r_f[0], decimals=5))\n",
    "r_tp = str(np.around(r_f[1], decimals=5))\n",
    "r_tm = str(np.around(r_f[2], decimals=5))\n",
    "plt.plot((x[0]-2458053, x[-1]-2458053), (1., 1.), 'k--', linewidth=1)\n",
    "\n",
    "m_f = np.interp(x, x2, m)\n",
    "y_transit_f = transit_lightCurve(x2, T0_f[0], r_f[0], 101.1576001138329, 24.73712, 89.912)\n",
    "\n",
    "\n",
    "plt.errorbar(x -2458053, (y - m_f + (y_transit)), yerr=y_error, fmt='k,', label='Ks data',\n",
    "             marker='o', mfc='blue', mec='k', ms=8, mew=1, elinewidth= 2, capsize=4)\n",
    "\n",
    "plt.plot(x2 -2458053, y_transit_f, 'k',  linewidth=5, label='Best Fit')\n",
    "\n",
    "\n",
    "m_f_2 = np.interp(jd, x2, m)\n",
    "y_transit_f = transit_lightCurve(jd, T0_f[0], r_f[0], 101.1576001138329, 24.73712, 89.912)\n",
    "\n",
    "\n",
    "plt.plot(jd -58053, (div - m_f_2 + (y_transit_f)), '.', alpha = 0.2)\n",
    "\n",
    "\n",
    "\n",
    "\n",
    "ax = plt.gca()\n",
    "ax.get_xaxis().get_major_formatter().set_useOffset(False)\n",
    "plt.subplots_adjust(left=0.15)\n",
    "plt.legend(loc=2, fontsize=20)"
   ]
  },
  {
   "cell_type": "code",
   "execution_count": null,
   "metadata": {},
   "outputs": [],
   "source": [
    "np.save('GROND_r_finalPlotsdata', (x -2458053, (y - m_f + (y_transit)), y_error))"
   ]
  },
  {
   "cell_type": "code",
   "execution_count": null,
   "metadata": {},
   "outputs": [],
   "source": []
  }
 ],
 "metadata": {
  "kernelspec": {
   "display_name": "Python 3",
   "language": "python",
   "name": "python3"
  },
  "language_info": {
   "codemirror_mode": {
    "name": "ipython",
    "version": 3
   },
   "file_extension": ".py",
   "mimetype": "text/x-python",
   "name": "python",
   "nbconvert_exporter": "python",
   "pygments_lexer": "ipython3",
   "version": "3.7.1"
  }
 },
 "nbformat": 4,
 "nbformat_minor": 2
}
