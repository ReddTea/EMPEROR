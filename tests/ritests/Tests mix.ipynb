{
 "cells": [
  {
   "cell_type": "markdown",
   "metadata": {},
   "source": [
    "# George vs Celerite\n",
    "## 2 temps, 50 walkers, 200 steps\n",
    "## 4 dim, 2 gp, matern32, 64 points"
   ]
  },
  {
   "cell_type": "code",
   "execution_count": 1,
   "metadata": {},
   "outputs": [
    {
     "name": "stderr",
     "output_type": "stream",
     "text": [
      "/home/reddtea/.local/lib/python3.7/site-packages/pyfits/__init__.py:22: PyFITSDeprecationWarning: PyFITS is deprecated, please use astropy.io.fits\n",
      "  PyFITSDeprecationWarning)  # noqa\n"
     ]
    },
    {
     "name": "stdout",
     "output_type": "stream",
     "text": [
      "Running burn-in\n",
      "Running burn-in\n",
      "Running burn-in\n"
     ]
    },
    {
     "name": "stderr",
     "output_type": "stream",
     "text": [
      "/home/reddtea/.local/lib/python3.7/site-packages/emcee/ptsampler.py:335: RuntimeWarning: invalid value encountered in subtract\n",
      "  - lnprob[:, jupdate::2]\n",
      "/home/reddtea/.local/lib/python3.7/site-packages/emcee/ptsampler.py:340: RuntimeWarning: invalid value encountered in less\n",
      "  accepts = logrs < logpaccept\n",
      "/home/reddtea/.local/lib/python3.7/site-packages/emcee/ptsampler.py:402: RuntimeWarning: invalid value encountered in subtract\n",
      "  - dbeta * logl[i - 1, i1perm[asel]]\n"
     ]
    },
    {
     "name": "stdout",
     "output_type": "stream",
     "text": [
      "Running burn-in\n",
      "Running burn-in\n",
      "Running burn-in\n",
      "Running burn-in\n",
      "Running burn-in\n",
      "Running burn-in\n",
      "Running burn-in\n",
      "Running burn-in\n",
      "6.58 s ± 164 ms per loop (mean ± std. dev. of 10 runs, 1 loop each)\n"
     ]
    }
   ],
   "source": [
    "%timeit -r10 run test1.py"
   ]
  },
  {
   "cell_type": "code",
   "execution_count": 2,
   "metadata": {},
   "outputs": [
    {
     "name": "stdout",
     "output_type": "stream",
     "text": [
      "Running burn-in\n"
     ]
    },
    {
     "name": "stderr",
     "output_type": "stream",
     "text": [
      "/home/reddtea/.local/lib/python3.7/site-packages/celerite/terms.py:565: RuntimeWarning: divide by zero encountered in double_scalars\n",
      "  S0 = np.exp(2.0 * log_sigma) / w0\n",
      "/home/reddtea/.local/lib/python3.7/site-packages/celerite/terms.py:566: RuntimeWarning: invalid value encountered in double_scalars\n",
      "  return (w0*S0, w0*w0*S0/self.eps, w0, self.eps)\n",
      "/home/reddtea/.local/lib/python3.7/site-packages/celerite/terms.py:565: RuntimeWarning: overflow encountered in double_scalars\n",
      "  S0 = np.exp(2.0 * log_sigma) / w0\n",
      "/home/reddtea/.local/lib/python3.7/site-packages/emcee/ptsampler.py:384: RuntimeWarning: invalid value encountered in subtract\n",
      "  paccept = dbeta * (logl[i, iperm] - logl[i - 1, i1perm])\n",
      "/home/reddtea/.local/lib/python3.7/site-packages/emcee/ptsampler.py:389: RuntimeWarning: invalid value encountered in greater\n",
      "  asel = (paccept > raccept)\n"
     ]
    },
    {
     "name": "stdout",
     "output_type": "stream",
     "text": [
      "Running burn-in\n",
      "Running burn-in\n",
      "Running burn-in\n",
      "Running burn-in\n",
      "Running burn-in\n",
      "Running burn-in\n",
      "Running burn-in\n",
      "Running burn-in\n",
      "Running burn-in\n",
      "Running burn-in\n",
      "2.93 s ± 152 ms per loop (mean ± std. dev. of 10 runs, 1 loop each)\n"
     ]
    }
   ],
   "source": [
    "%timeit -r10 run test2.py"
   ]
  },
  {
   "cell_type": "markdown",
   "metadata": {},
   "source": [
    "## 4 dim, 2 gp, matern32, 640 points"
   ]
  },
  {
   "cell_type": "code",
   "execution_count": 4,
   "metadata": {},
   "outputs": [
    {
     "name": "stdout",
     "output_type": "stream",
     "text": [
      "Running burn-in\n",
      "Running burn-in\n",
      "Running burn-in\n",
      "Running burn-in\n",
      "Running burn-in\n",
      "Running burn-in\n",
      "Running burn-in\n",
      "Running burn-in\n",
      "Running burn-in\n",
      "Running burn-in\n",
      "Running burn-in\n",
      "2min 39s ± 16.6 s per loop (mean ± std. dev. of 10 runs, 1 loop each)\n"
     ]
    }
   ],
   "source": [
    "%timeit -r10 run test1.py"
   ]
  },
  {
   "cell_type": "code",
   "execution_count": 5,
   "metadata": {},
   "outputs": [
    {
     "name": "stdout",
     "output_type": "stream",
     "text": [
      "Running burn-in\n",
      "Running burn-in\n",
      "Running burn-in\n",
      "Running burn-in\n",
      "Running burn-in\n",
      "Running burn-in\n",
      "Running burn-in\n",
      "Running burn-in\n",
      "Running burn-in\n",
      "Running burn-in\n",
      "Running burn-in\n",
      "5.23 s ± 93.7 ms per loop (mean ± std. dev. of 10 runs, 1 loop each)\n"
     ]
    }
   ],
   "source": [
    "%timeit -r10 run test2.py"
   ]
  },
  {
   "cell_type": "markdown",
   "metadata": {},
   "source": [
    "## 4 dim, 2 gp, matern32, 235 points"
   ]
  },
  {
   "cell_type": "code",
   "execution_count": 6,
   "metadata": {},
   "outputs": [
    {
     "name": "stdout",
     "output_type": "stream",
     "text": [
      "Running burn-in\n",
      "Running burn-in\n",
      "Running burn-in\n",
      "Running burn-in\n",
      "Running burn-in\n",
      "Running burn-in\n",
      "Running burn-in\n",
      "Running burn-in\n",
      "Running burn-in\n",
      "Running burn-in\n",
      "Running burn-in\n",
      "20.7 s ± 644 ms per loop (mean ± std. dev. of 10 runs, 1 loop each)\n"
     ]
    }
   ],
   "source": [
    "%timeit -r10 run test1.py"
   ]
  },
  {
   "cell_type": "code",
   "execution_count": 7,
   "metadata": {},
   "outputs": [
    {
     "name": "stdout",
     "output_type": "stream",
     "text": [
      "Running burn-in\n",
      "Running burn-in\n",
      "Running burn-in\n",
      "Running burn-in\n",
      "Running burn-in\n",
      "Running burn-in\n",
      "Running burn-in\n",
      "Running burn-in\n",
      "Running burn-in\n",
      "Running burn-in\n",
      "Running burn-in\n",
      "3.54 s ± 83.1 ms per loop (mean ± std. dev. of 10 runs, 1 loop each)\n"
     ]
    }
   ],
   "source": [
    "%timeit -r10 run test2.py"
   ]
  },
  {
   "cell_type": "markdown",
   "metadata": {},
   "source": [
    "## 4 dim, 2 gp, matern32, 427 points"
   ]
  },
  {
   "cell_type": "code",
   "execution_count": 1,
   "metadata": {},
   "outputs": [
    {
     "name": "stderr",
     "output_type": "stream",
     "text": [
      "/home/reddtea/.local/lib/python3.7/site-packages/pyfits/__init__.py:22: PyFITSDeprecationWarning: PyFITS is deprecated, please use astropy.io.fits\n",
      "  PyFITSDeprecationWarning)  # noqa\n"
     ]
    },
    {
     "name": "stdout",
     "output_type": "stream",
     "text": [
      "Running burn-in\n",
      "Running burn-in\n",
      "Running burn-in\n",
      "Running burn-in\n",
      "Running burn-in\n",
      "Running burn-in\n",
      "Running burn-in\n",
      "Running burn-in\n",
      "Running burn-in\n",
      "Running burn-in\n",
      "Running burn-in\n",
      "1min 2s ± 6.56 s per loop (mean ± std. dev. of 10 runs, 1 loop each)\n"
     ]
    }
   ],
   "source": [
    "%timeit -r10 run test1.py"
   ]
  },
  {
   "cell_type": "code",
   "execution_count": 6,
   "metadata": {},
   "outputs": [
    {
     "name": "stdout",
     "output_type": "stream",
     "text": [
      "Running burn-in\n",
      "Running burn-in\n",
      "Running burn-in\n",
      "Running burn-in\n",
      "Running burn-in\n",
      "Running burn-in\n",
      "Running burn-in\n",
      "Running burn-in\n",
      "Running burn-in\n",
      "Running burn-in\n",
      "Running burn-in\n",
      "4.05 s ± 73.3 ms per loop (mean ± std. dev. of 10 runs, 1 loop each)\n"
     ]
    }
   ],
   "source": [
    "%timeit -r10 run test2.py"
   ]
  },
  {
   "cell_type": "code",
   "execution_count": 9,
   "metadata": {},
   "outputs": [],
   "source": [
    "%matplotlib inline\n",
    "import matplotlib.pyplot as plt\n"
   ]
  },
  {
   "cell_type": "code",
   "execution_count": 7,
   "metadata": {},
   "outputs": [
    {
     "data": {
      "text/plain": [
       "'\\nm_g = [,47.43,]\\nm_c = [,47.46,]\\n\\nfig1, axes1 = plt.subplots(1, 2, figsize=(10, 5))\\nfig1.suptitle(\\'N vs Mem\\', fontsize=30)\\n\\n\\naxes1[0].errorbar(N, t_g, yerr=g_err, fmt=\"-or\")\\naxes1[0].set_xlabel(\"$N$ points\", fontsize=20)\\naxes1[0].set_ylabel(\"Mem in  $MiB$\", fontsize=20)\\naxes1[0].set_title(\"George\", fontsize=20)\\n\\naxes1[1].errorbar(N, t_c, yerr=c_err, fmt=\"-ob\")\\naxes1[1].set_xlabel(\"$N$ points\", fontsize=20)\\naxes1[1].set_ylabel(\"Mem in  $MiB$\", fontsize=20)\\naxes1[1].set_title(\\'Celerite\\', fontsize=20)\\n'"
      ]
     },
     "execution_count": 7,
     "metadata": {},
     "output_type": "execute_result"
    },
    {
     "data": {
      "image/png": "[encoded data removed]",
      "text/plain": [
       "<Figure size 720x360 with 2 Axes>"
      ]
     },
     "metadata": {
      "needs_background": "light"
     },
     "output_type": "display_data"
    }
   ],
   "source": [
    "# n vs time\n",
    "N = [64, 235, 427, 640]\n",
    "t_g = [6.58,20.7,62, 159]\n",
    "t_c = [2.93,3.54,4.05, 5.23]\n",
    "g_err = [1.64e-3,644e-3, 6.56, 16.6]\n",
    "c_err = [1.53e-3,83.1e-3,73.3e-3,93.7e-3]\n",
    "fig, axes = plt.subplots(1, 2, figsize=(10, 5))\n",
    "fig.suptitle('N vs Time', fontsize=30)\n",
    "#settings = ['errorbar', 'set_xlabel', 'set_ylabel', 'set_title']\n",
    "\n",
    "axes[0].errorbar(N, t_g, yerr=g_err, fmt=\"-or\")\n",
    "axes[0].set_xlabel(\"$N$ points\", fontsize=20)\n",
    "axes[0].set_ylabel(\"time in $s$\", fontsize=20)\n",
    "axes[0].set_title(\"George\", fontsize=20)\n",
    "\n",
    "axes[1].errorbar(N, t_c, yerr=c_err, fmt=\"-ob\")\n",
    "#axes[1].errorbar(N, m_g, g_err, fmt=\"-r\", alpha=0.2)\n",
    "axes[1].set_xlabel(\"$N$ points\", fontsize=20)\n",
    "axes[1].set_ylabel(\"Time in $s$\", fontsize=20)\n",
    "axes[1].set_title('Celerite', fontsize=20)\n",
    "\n",
    "'''\n",
    "m_g = [,47.43,]\n",
    "m_c = [,47.46,]\n",
    "\n",
    "fig1, axes1 = plt.subplots(1, 2, figsize=(10, 5))\n",
    "fig1.suptitle('N vs Mem', fontsize=30)\n",
    "\n",
    "\n",
    "axes1[0].errorbar(N, t_g, yerr=g_err, fmt=\"-or\")\n",
    "axes1[0].set_xlabel(\"$N$ points\", fontsize=20)\n",
    "axes1[0].set_ylabel(\"Mem in  $MiB$\", fontsize=20)\n",
    "axes1[0].set_title(\"George\", fontsize=20)\n",
    "\n",
    "axes1[1].errorbar(N, t_c, yerr=c_err, fmt=\"-ob\")\n",
    "axes1[1].set_xlabel(\"$N$ points\", fontsize=20)\n",
    "axes1[1].set_ylabel(\"Mem in  $MiB$\", fontsize=20)\n",
    "axes1[1].set_title('Celerite', fontsize=20)\n",
    "'''"
   ]
  },
  {
   "cell_type": "markdown",
   "metadata": {},
   "source": [
    "# MemTests"
   ]
  },
  {
   "cell_type": "code",
   "execution_count": 2,
   "metadata": {},
   "outputs": [],
   "source": [
    "import os"
   ]
  },
  {
   "cell_type": "markdown",
   "metadata": {},
   "source": [
    "## 4 dim, 2 gp, matern32, 235 points"
   ]
  },
  {
   "cell_type": "code",
   "execution_count": 3,
   "metadata": {},
   "outputs": [
    {
     "name": "stdout",
     "output_type": "stream",
     "text": [
      "peak memory: 47.43 MiB, increment: 0.21 MiB\n"
     ]
    }
   ],
   "source": [
    "%memit -r5 os.system('ipython test1.py')"
   ]
  },
  {
   "cell_type": "code",
   "execution_count": 4,
   "metadata": {},
   "outputs": [
    {
     "name": "stdout",
     "output_type": "stream",
     "text": [
      "peak memory: 47.46 MiB, increment: 0.00 MiB\n"
     ]
    }
   ],
   "source": [
    "%memit -r5 os.system('ipython test2.py')"
   ]
  },
  {
   "cell_type": "markdown",
   "metadata": {},
   "source": [
    "## 4 dim, 2 gp, matern32, 64 points"
   ]
  },
  {
   "cell_type": "code",
   "execution_count": 5,
   "metadata": {},
   "outputs": [
    {
     "name": "stdout",
     "output_type": "stream",
     "text": [
      "peak memory: 47.46 MiB, increment: 0.01 MiB\n"
     ]
    }
   ],
   "source": [
    "%memit -r5 os.system('ipython test1.py')"
   ]
  },
  {
   "cell_type": "code",
   "execution_count": 6,
   "metadata": {},
   "outputs": [
    {
     "name": "stdout",
     "output_type": "stream",
     "text": [
      "peak memory: 47.48 MiB, increment: 0.00 MiB\n"
     ]
    }
   ],
   "source": [
    "%memit -r5 os.system('ipython test2.py')"
   ]
  },
  {
   "cell_type": "code",
   "execution_count": 8,
   "metadata": {},
   "outputs": [],
   "source": [
    "## 4 dim, 2 gp, matern32, 640 points"
   ]
  },
  {
   "cell_type": "code",
   "execution_count": 7,
   "metadata": {},
   "outputs": [
    {
     "name": "stdout",
     "output_type": "stream",
     "text": [
      "peak memory: 47.48 MiB, increment: 0.00 MiB\n"
     ]
    }
   ],
   "source": [
    "%memit -r5 os.system('ipython test2.py')"
   ]
  },
  {
   "cell_type": "code",
   "execution_count": null,
   "metadata": {},
   "outputs": [],
   "source": [
    "#HAHAHAHA RETRY COMPUTE OUTSIDE (UNTIL IT PASSES!! see celerite.py def compute..)"
   ]
  }
 ],
 "metadata": {
  "kernelspec": {
   "display_name": "Python 3",
   "language": "python",
   "name": "python3"
  },
  "language_info": {
   "codemirror_mode": {
    "name": "ipython",
    "version": 3
   },
   "file_extension": ".py",
   "mimetype": "text/x-python",
   "name": "python",
   "nbconvert_exporter": "python",
   "pygments_lexer": "ipython3",
   "version": "3.7.1"
  }
 },
 "nbformat": 4,
 "nbformat_minor": 2
}
